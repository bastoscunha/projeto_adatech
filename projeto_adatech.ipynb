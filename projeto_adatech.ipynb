{
 "cells": [
  {
   "cell_type": "markdown",
   "id": "71a4798a",
   "metadata": {},
   "source": [
    "Projeto Final - Módulo 1\n",
    "\n",
    "Estamos trabalhando com filmes/séries de um catálogo, que deve conter:\n",
    "\n",
    "- Nome do filme/série\n",
    "- Diretor (ou alguma outra informação textual)\n",
    "- Avaliação (do público, idealmente de 0 a 10)\n",
    "- Data de lançamento\n",
    "- Tupla indicando a duração do filme, formato (hora, minuto)\n",
    "- Disponível em serviços de streaming (booleano)\n",
    "\n",
    "Etapa 1: Obtenção dos dados\n",
    "- Pedir ao usuário os dados necessários, como mostrado acima\n",
    "- Todos os dados devem ser validados\n",
    "- Guardar os dados em uma lista de dicionários\n",
    "- Exportar esta lista de dicionários para um JSON"
   ]
  },
  {
   "cell_type": "markdown",
   "id": "f31c618d",
   "metadata": {},
   "source": [
    "A lista de dicionários contendo informações sobre 20 filmes foi criada com o auxílio da I.A. (chatGPT)"
   ]
  },
  {
   "cell_type": "code",
   "execution_count": 36,
   "id": "0cc682af",
   "metadata": {},
   "outputs": [],
   "source": [
    "catalogo = [\n",
    "    {\n",
    "        \"nome\": \"Inception\",\n",
    "        \"diretor\": \"Christopher Nolan\",\n",
    "        \"avaliacao\": 8.8,\n",
    "        \"data_lancamento\": \"2010-07-16\",\n",
    "        \"duracao\": (2, 28),\n",
    "        \"streaming\": True\n",
    "    },\n",
    "    {\n",
    "        \"nome\": \"The Matrix\",\n",
    "        \"diretor\": \"Lana e Lilly Wachowski\",\n",
    "        \"avaliacao\": 8.7,\n",
    "        \"data_lancamento\": \"1999-03-31\",\n",
    "        \"duracao\": (2, 16),\n",
    "        \"streaming\": True\n",
    "    },\n",
    "    {\n",
    "        \"nome\": \"Interstellar\",\n",
    "        \"diretor\": \"Christopher Nolan\",\n",
    "        \"avaliacao\": 8.6,\n",
    "        \"data_lancamento\": \"2014-11-07\",\n",
    "        \"duracao\": (2, 49),\n",
    "        \"streaming\": True\n",
    "    },\n",
    "    {\n",
    "        \"nome\": \"Parasite\",\n",
    "        \"diretor\": \"Bong Joon-ho\",\n",
    "        \"avaliacao\": 6.0,\n",
    "        \"data_lancamento\": \"2019-05-30\",\n",
    "        \"duracao\": (2, 12),\n",
    "        \"streaming\": False\n",
    "    },\n",
    "    {\n",
    "        \"nome\": \"The Godfather\",\n",
    "        \"diretor\": \"Francis Ford Coppola\",\n",
    "        \"avaliacao\": 9.2,\n",
    "        \"data_lancamento\": \"1972-03-24\",\n",
    "        \"duracao\": (2, 55),\n",
    "        \"streaming\": True\n",
    "    },\n",
    "    {\n",
    "        \"nome\": \"The Dark Knight\",\n",
    "        \"diretor\": \"Christopher Nolan\",\n",
    "        \"avaliacao\": 9.0,\n",
    "        \"data_lancamento\": \"2008-07-18\",\n",
    "        \"duracao\": (2, 32),\n",
    "        \"streaming\": True\n",
    "    },\n",
    "    {\n",
    "        \"nome\": \"Pulp Fiction\",\n",
    "        \"diretor\": \"Quentin Tarantino\",\n",
    "        \"avaliacao\": 6.0,\n",
    "        \"data_lancamento\": \"1994-10-14\",\n",
    "        \"duracao\": (2, 34),\n",
    "        \"streaming\": False\n",
    "    },\n",
    "    {\n",
    "        \"nome\": \"Forrest Gump\",\n",
    "        \"diretor\": \"Robert Zemeckis\",\n",
    "        \"avaliacao\": 8.8,\n",
    "        \"data_lancamento\": \"1994-07-06\",\n",
    "        \"duracao\": (2, 22),\n",
    "        \"streaming\": True\n",
    "    },\n",
    "    {\n",
    "        \"nome\": \"Fight Club\",\n",
    "        \"diretor\": \"David Fincher\",\n",
    "        \"avaliacao\": 8.8,\n",
    "        \"data_lancamento\": \"1999-10-15\",\n",
    "        \"duracao\": (2, 19),\n",
    "        \"streaming\": False\n",
    "    },\n",
    "    {\n",
    "        \"nome\": \"The Shawshank Redemption\",\n",
    "        \"diretor\": \"Frank Darabont\",\n",
    "        \"avaliacao\": 9.3,\n",
    "        \"data_lancamento\": \"1994-09-23\",\n",
    "        \"duracao\": (2, 22),\n",
    "        \"streaming\": True\n",
    "    },\n",
    "    {\n",
    "        \"nome\": \"Avengers: Endgame\",\n",
    "        \"diretor\": \"Anthony e Joe Russo\",\n",
    "        \"avaliacao\": 8.4,\n",
    "        \"data_lancamento\": \"2019-04-26\",\n",
    "        \"duracao\": (3, 1),\n",
    "        \"streaming\": True\n",
    "    },\n",
    "    {\n",
    "        \"nome\": \"Gladiator\",\n",
    "        \"diretor\": \"Ridley Scott\",\n",
    "        \"avaliacao\": 8.5,\n",
    "        \"data_lancamento\": \"2000-05-05\",\n",
    "        \"duracao\": (2, 35),\n",
    "        \"streaming\": False\n",
    "    },\n",
    "    {\n",
    "        \"nome\": \"Titanic\",\n",
    "        \"diretor\": \"James Cameron\",\n",
    "        \"avaliacao\": 7.9,\n",
    "        \"data_lancamento\": \"1997-12-19\",\n",
    "        \"duracao\": (3, 14),\n",
    "        \"streaming\": True\n",
    "    },\n",
    "    {\n",
    "        \"nome\": \"The Lion King\",\n",
    "        \"diretor\": \"Roger Allers, Rob Minkoff\",\n",
    "        \"avaliacao\": 8.5,\n",
    "        \"data_lancamento\": \"1994-06-24\",\n",
    "        \"duracao\": (1, 28),\n",
    "        \"streaming\": True\n",
    "    },\n",
    "    {\n",
    "        \"nome\": \"The Silence of the Lambs\",\n",
    "        \"diretor\": \"Jonathan Demme\",\n",
    "        \"avaliacao\": 8.6,\n",
    "        \"data_lancamento\": \"1991-02-14\",\n",
    "        \"duracao\": (1, 58),\n",
    "        \"streaming\": False\n",
    "    },\n",
    "    {\n",
    "        \"nome\": \"Se7en\",\n",
    "        \"diretor\": \"David Fincher\",\n",
    "        \"avaliacao\": 8.6,\n",
    "        \"data_lancamento\": \"1995-09-22\",\n",
    "        \"duracao\": (2, 7),\n",
    "        \"streaming\": True\n",
    "    },\n",
    "    {\n",
    "        \"nome\": \"The Social Network\",\n",
    "        \"diretor\": \"David Fincher\",\n",
    "        \"avaliacao\": 6.0,\n",
    "        \"data_lancamento\": \"2010-10-01\",\n",
    "        \"duracao\": (2, 0),\n",
    "        \"streaming\": True\n",
    "    },\n",
    "    {\n",
    "        \"nome\": \"Joker\",\n",
    "        \"diretor\": \"Todd Phillips\",\n",
    "        \"avaliacao\": 8.5,\n",
    "        \"data_lancamento\": \"2019-10-04\",\n",
    "        \"duracao\": (2, 2),\n",
    "        \"streaming\": True\n",
    "    },\n",
    "    {\n",
    "        \"nome\": \"Coco\",\n",
    "        \"diretor\": \"Lee Unkrich, Adrian Molina\",\n",
    "        \"avaliacao\": 8.4,\n",
    "        \"data_lancamento\": \"2017-11-22\",\n",
    "        \"duracao\": (1, 45),\n",
    "        \"streaming\": True\n",
    "    },\n",
    "    {\n",
    "        \"nome\": \"Breaking Bad\",\n",
    "        \"diretor\": \"Vince Gilligan\",\n",
    "        \"avaliacao\": 9.5,\n",
    "        \"data_lancamento\": \"2008-01-20\",\n",
    "        \"duracao\": (5, 62),  # 5 temporadas, 62 episódios\n",
    "        \"streaming\": True\n",
    "    }\n",
    "]"
   ]
  },
  {
   "cell_type": "markdown",
   "id": "905096c0",
   "metadata": {},
   "source": [
    "Exportando a lista de dicionários para um JSON"
   ]
  },
  {
   "cell_type": "code",
   "execution_count": 37,
   "id": "31dbe0d0",
   "metadata": {},
   "outputs": [],
   "source": [
    "import json\n",
    "\n",
    "with open(\"lista_filmes.json\", \"w\") as arq:\n",
    "  json_str = json.dumps(catalogo)\n",
    "  arq.write(json_str)"
   ]
  },
  {
   "cell_type": "markdown",
   "id": "cc555c73",
   "metadata": {},
   "source": [
    "Etapa 2: Leitura e obtenção de estatísticas."
   ]
  },
  {
   "cell_type": "markdown",
   "id": "51a20613",
   "metadata": {},
   "source": [
    "Podemos ler estes dados do arquivo JSON."
   ]
  },
  {
   "cell_type": "code",
   "execution_count": 38,
   "id": "b7162b52",
   "metadata": {},
   "outputs": [
    {
     "name": "stdout",
     "output_type": "stream",
     "text": [
      "[{'nome': 'Inception', 'diretor': 'Christopher Nolan', 'avaliacao': 8.8, 'data_lancamento': '2010-07-16', 'duracao': [2, 28], 'streaming': True}, {'nome': 'The Matrix', 'diretor': 'Lana e Lilly Wachowski', 'avaliacao': 8.7, 'data_lancamento': '1999-03-31', 'duracao': [2, 16], 'streaming': True}, {'nome': 'Interstellar', 'diretor': 'Christopher Nolan', 'avaliacao': 8.6, 'data_lancamento': '2014-11-07', 'duracao': [2, 49], 'streaming': True}, {'nome': 'Parasite', 'diretor': 'Bong Joon-ho', 'avaliacao': 6.0, 'data_lancamento': '2019-05-30', 'duracao': [2, 12], 'streaming': False}, {'nome': 'The Godfather', 'diretor': 'Francis Ford Coppola', 'avaliacao': 9.2, 'data_lancamento': '1972-03-24', 'duracao': [2, 55], 'streaming': True}, {'nome': 'The Dark Knight', 'diretor': 'Christopher Nolan', 'avaliacao': 9.0, 'data_lancamento': '2008-07-18', 'duracao': [2, 32], 'streaming': True}, {'nome': 'Pulp Fiction', 'diretor': 'Quentin Tarantino', 'avaliacao': 6.0, 'data_lancamento': '1994-10-14', 'duracao': [2, 34], 'streaming': False}, {'nome': 'Forrest Gump', 'diretor': 'Robert Zemeckis', 'avaliacao': 8.8, 'data_lancamento': '1994-07-06', 'duracao': [2, 22], 'streaming': True}, {'nome': 'Fight Club', 'diretor': 'David Fincher', 'avaliacao': 8.8, 'data_lancamento': '1999-10-15', 'duracao': [2, 19], 'streaming': False}, {'nome': 'The Shawshank Redemption', 'diretor': 'Frank Darabont', 'avaliacao': 9.3, 'data_lancamento': '1994-09-23', 'duracao': [2, 22], 'streaming': True}, {'nome': 'Avengers: Endgame', 'diretor': 'Anthony e Joe Russo', 'avaliacao': 8.4, 'data_lancamento': '2019-04-26', 'duracao': [3, 1], 'streaming': True}, {'nome': 'Gladiator', 'diretor': 'Ridley Scott', 'avaliacao': 8.5, 'data_lancamento': '2000-05-05', 'duracao': [2, 35], 'streaming': False}, {'nome': 'Titanic', 'diretor': 'James Cameron', 'avaliacao': 7.9, 'data_lancamento': '1997-12-19', 'duracao': [3, 14], 'streaming': True}, {'nome': 'The Lion King', 'diretor': 'Roger Allers, Rob Minkoff', 'avaliacao': 8.5, 'data_lancamento': '1994-06-24', 'duracao': [1, 28], 'streaming': True}, {'nome': 'The Silence of the Lambs', 'diretor': 'Jonathan Demme', 'avaliacao': 8.6, 'data_lancamento': '1991-02-14', 'duracao': [1, 58], 'streaming': False}, {'nome': 'Se7en', 'diretor': 'David Fincher', 'avaliacao': 8.6, 'data_lancamento': '1995-09-22', 'duracao': [2, 7], 'streaming': True}, {'nome': 'The Social Network', 'diretor': 'David Fincher', 'avaliacao': 6.0, 'data_lancamento': '2010-10-01', 'duracao': [2, 0], 'streaming': True}, {'nome': 'Joker', 'diretor': 'Todd Phillips', 'avaliacao': 8.5, 'data_lancamento': '2019-10-04', 'duracao': [2, 2], 'streaming': True}, {'nome': 'Coco', 'diretor': 'Lee Unkrich, Adrian Molina', 'avaliacao': 8.4, 'data_lancamento': '2017-11-22', 'duracao': [1, 45], 'streaming': True}, {'nome': 'Breaking Bad', 'diretor': 'Vince Gilligan', 'avaliacao': 9.5, 'data_lancamento': '2008-01-20', 'duracao': [5, 62], 'streaming': True}]\n"
     ]
    }
   ],
   "source": [
    "with open(\"lista_filmes.json\", \"r\") as arq:\n",
    "  lista_filmes = json.loads(arq.read())\n",
    "print(lista_filmes)"
   ]
  },
  {
   "cell_type": "markdown",
   "id": "f9f40444",
   "metadata": {},
   "source": [
    "Obter a média de avaliação dos filmes utilizando função de alta ordem."
   ]
  },
  {
   "cell_type": "code",
   "execution_count": 39,
   "id": "0ce06ca1",
   "metadata": {},
   "outputs": [
    {
     "name": "stdout",
     "output_type": "stream",
     "text": [
      "8.30\n"
     ]
    }
   ],
   "source": [
    "lista_avaliacoes = list(map(lambda filme: filme[\"avaliacao\"], lista_filmes))\n",
    "media = sum(lista_avaliacoes) / len(lista_avaliacoes)\n",
    "print(f\"{media:.2f}\")\n"
   ]
  },
  {
   "cell_type": "markdown",
   "id": "3841d2e1",
   "metadata": {},
   "source": [
    "Obter a mediana de avaliação dos filmes."
   ]
  },
  {
   "cell_type": "code",
   "execution_count": null,
   "id": "c3fd2f81",
   "metadata": {},
   "outputs": [],
   "source": []
  },
  {
   "cell_type": "markdown",
   "id": "2cf61c4d",
   "metadata": {},
   "source": [
    "Obter uma lista com todos os nomes de filmes cuja avaliação é maior que 6, utilizando uma função própria (deve possuir valores default nos parâmetros)"
   ]
  },
  {
   "cell_type": "code",
   "execution_count": 45,
   "id": "b62cc46c",
   "metadata": {},
   "outputs": [
    {
     "name": "stdout",
     "output_type": "stream",
     "text": [
      "['Inception', 'The Matrix', 'Interstellar', 'The Godfather', 'The Dark Knight', 'Forrest Gump', 'Fight Club', 'The Shawshank Redemption', 'Avengers: Endgame', 'Gladiator', 'Titanic', 'The Lion King', 'The Silence of the Lambs', 'Se7en', 'Joker', 'Coco', 'Breaking Bad']\n"
     ]
    }
   ],
   "source": [
    "def filmes_streaming(lista_filmes, avaliacao=6.0):\n",
    "    avaliacao_6_plus = [filme['nome'] for filme in lista_filmes if filme[\"avaliacao\"] > avaliacao]\n",
    "    return avaliacao_6_plus\n",
    "\n",
    "print(filmes_streaming(lista_filmes))"
   ]
  },
  {
   "cell_type": "markdown",
   "id": "97846783",
   "metadata": {},
   "source": [
    "Obtendo a mesma lista acima,porém utilizando filter e map."
   ]
  },
  {
   "cell_type": "code",
   "execution_count": 41,
   "id": "04eedc28",
   "metadata": {},
   "outputs": [
    {
     "name": "stdout",
     "output_type": "stream",
     "text": [
      "['Inception', 'The Matrix', 'Interstellar', 'The Godfather', 'The Dark Knight', 'Forrest Gump', 'Fight Club', 'The Shawshank Redemption', 'Avengers: Endgame', 'Gladiator', 'Titanic', 'The Lion King', 'The Silence of the Lambs', 'Se7en', 'Joker', 'Coco', 'Breaking Bad']\n"
     ]
    }
   ],
   "source": [
    "avaliacao_6_plus = list(filter(lambda lista_filmes: lista_filmes[\"avaliacao\"] > 6, lista_filmes))\n",
    "lista_nomes = list(map(lambda lista_filmes: lista_filmes[\"nome\"], avaliacao_6_plus))\n",
    "print(lista_nomes)"
   ]
  },
  {
   "cell_type": "markdown",
   "id": "459fcffc",
   "metadata": {},
   "source": [
    "Obter uma lista com todos os nomes de filmes que existem em algum serviço de streaming, utilizando list-comprehension."
   ]
  },
  {
   "cell_type": "code",
   "execution_count": 42,
   "id": "674b78cb",
   "metadata": {},
   "outputs": [
    {
     "name": "stdout",
     "output_type": "stream",
     "text": [
      "['Inception', 'The Matrix', 'Interstellar', 'The Godfather', 'The Dark Knight', 'Forrest Gump', 'The Shawshank Redemption', 'Avengers: Endgame', 'Titanic', 'The Lion King', 'Se7en', 'The Social Network', 'Joker', 'Coco', 'Breaking Bad']\n"
     ]
    }
   ],
   "source": [
    "filmes_streaming = [filme[\"nome\"] for filme in lista_filmes if filme[\"streaming\"] == True]\n",
    "print(filmes_streaming)"
   ]
  },
  {
   "cell_type": "markdown",
   "id": "62d60eec",
   "metadata": {},
   "source": [
    "Criar uma função que retorna o filme que possui a maior e o filme que possui a menor duração dentre os cadastrados."
   ]
  },
  {
   "cell_type": "code",
   "execution_count": null,
   "id": "33fed026",
   "metadata": {},
   "outputs": [
    {
     "name": "stdout",
     "output_type": "stream",
     "text": [
      "O filme de maior duração é: {'nome': 'Breaking Bad', 'diretor': 'Vince Gilligan', 'avaliacao': 9.5, 'data_lancamento': '2008-01-20', 'duracao': [5, 62], 'streaming': True}\n",
      "O filme de menor duração é: {'nome': 'The Lion King', 'diretor': 'Roger Allers, Rob Minkoff', 'avaliacao': 8.5, 'data_lancamento': '1994-06-24', 'duracao': [1, 28], 'streaming': True}\n"
     ]
    }
   ],
   "source": [
    "def duracao_filme(lista_filmes):\n",
    "    \n",
    "    for filme in lista_filmes:\n",
    "        horas, minutos = filme[\"duracao\"]\n",
    "        total_minutos = horas * 60 + minutos\n",
    "        filme[\"duracao\"] = total_minutos\n",
    "    \n",
    "print(f\"O filme de maior duração é: {max(lista_filmes, key=lambda filme: filme[\"duracao\"])}\")\n",
    "print(f\"O filme de menor duração é: {min(lista_filmes, key=lambda filme: filme[\"duracao\"])}\")\n"
   ]
  },
  {
   "cell_type": "markdown",
   "id": "df18d15e",
   "metadata": {},
   "source": [
    "Obter a moda dos diretores (ou seja, o diretor que mais dirigiu filmes)."
   ]
  },
  {
   "cell_type": "code",
   "execution_count": 49,
   "id": "2de898f1",
   "metadata": {},
   "outputs": [
    {
     "name": "stdout",
     "output_type": "stream",
     "text": [
      "[('Christopher Nolan', 3), ('David Fincher', 3)]\n"
     ]
    }
   ],
   "source": [
    "def obtem_moda_diretores(lista_filmes):\n",
    "  total_diretores = {}\n",
    "  for filme in lista_filmes:\n",
    "    diretor = filme[\"diretor\"]\n",
    "    \n",
    "    if diretor not in total_diretores:\n",
    "      total_diretores[diretor] = 1\n",
    "    else:\n",
    "      total_diretores[diretor] += 1\n",
    "\n",
    "  maior_diretor = max(total_diretores, key=lambda chave: total_diretores[chave])\n",
    "  maior_qtd = total_diretores[maior_diretor]\n",
    "\n",
    "  lista_modas = []\n",
    "  for diretor, qtd in total_diretores.items():\n",
    "    if qtd == maior_qtd:\n",
    "      lista_modas.append((diretor, qtd))\n",
    "  return lista_modas\n",
    "\n",
    "print(obtem_moda_diretores(lista_filmes))"
   ]
  },
  {
   "cell_type": "markdown",
   "id": "c1be1db8",
   "metadata": {},
   "source": [
    "Etapa 3: Lidando com dados desestruturados\n",
    "- Foi indicado que a média da turma deve ser a mesma média da lista de notas abaixo:\n",
    "\n",
    "[[6.3, 2.1, [8.4, 4.2, 5.1], 9.6], 10, 4.7, 6.5]\n",
    "\n",
    "- Crie uma função recursiva para obter a média da lista acima\n",
    "- Utilize esta média e crie uma função para \"garantir\" que a média da turma fique igual a esta média retornada por essa função\n",
    "- Atualize as médias dos alunos e exporte os novos dados em formato CSV\n",
    "\n",
    "Etapa 4: Tratamento de exceções\n",
    "- Tratar os possíveis erros do código e exceções"
   ]
  },
  {
   "cell_type": "markdown",
   "id": "e5a736ac",
   "metadata": {},
   "source": []
  }
 ],
 "metadata": {
  "kernelspec": {
   "display_name": "Python 3",
   "language": "python",
   "name": "python3"
  },
  "language_info": {
   "codemirror_mode": {
    "name": "ipython",
    "version": 3
   },
   "file_extension": ".py",
   "mimetype": "text/x-python",
   "name": "python",
   "nbconvert_exporter": "python",
   "pygments_lexer": "ipython3",
   "version": "3.13.2"
  }
 },
 "nbformat": 4,
 "nbformat_minor": 5
}
